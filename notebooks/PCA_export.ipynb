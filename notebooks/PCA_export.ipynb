{
 "cells": [
  {
   "cell_type": "code",
   "execution_count": 1,
   "metadata": {},
   "outputs": [],
   "source": [
    "from pathlib import Path\n",
    "\n",
    "import matplotlib.pyplot as plt\n",
    "import numpy as np\n",
    "import pandas as pd\n",
    "import plotly.express as px\n",
    "import seaborn as sn\n",
    "\n",
    "from scipy.stats import norm\n",
    "from sklearn.decomposition import PCA\n",
    "from sklearn.preprocessing import StandardScaler"
   ]
  },
  {
   "cell_type": "code",
   "execution_count": 2,
   "metadata": {},
   "outputs": [],
   "source": [
    "training_path = Path().resolve().parents[0] / 'data' / 'clean_training_data.csv'"
   ]
  },
  {
   "cell_type": "code",
   "execution_count": 4,
   "metadata": {},
   "outputs": [],
   "source": [
    "df = pd.read_csv(training_path)\n",
    "df = df.dropna()\n",
    "\n",
    "df_X = df.drop(['original_text','Unnamed: 0','label','complexity_scores'], axis=1)\n",
    "df_y = df['label']"
   ]
  },
  {
   "cell_type": "code",
   "execution_count": 5,
   "metadata": {},
   "outputs": [],
   "source": [
    "df_X_normalized = StandardScaler().fit_transform(df_X[df_X.columns])"
   ]
  },
  {
   "cell_type": "code",
   "execution_count": 6,
   "metadata": {},
   "outputs": [
    {
     "data": {
      "text/plain": [
       "array([[ 3.6355936 ,  0.27997807],\n",
       "       [ 0.82196088,  0.80961355],\n",
       "       [ 2.12128784, -1.17979823],\n",
       "       ...,\n",
       "       [-1.48146449,  0.26764585],\n",
       "       [ 2.08906069, -1.02576673],\n",
       "       [-2.52463731,  3.5670477 ]])"
      ]
     },
     "execution_count": 6,
     "metadata": {},
     "output_type": "execute_result"
    }
   ],
   "source": [
    "pca = PCA(n_components=2).fit(df_X_normalized)\n",
    "X_pca = pca.transform(df_X_normalized)\n",
    "\n",
    "X_pca"
   ]
  },
  {
   "cell_type": "code",
   "execution_count": 15,
   "metadata": {},
   "outputs": [],
   "source": [
    "PCA_df = pd.DataFrame(X_pca)\n",
    "PCA_df.columns = ['PC1','PC2']\n",
    "PCA_df['labels'] = df_y"
   ]
  },
  {
   "cell_type": "code",
   "execution_count": 16,
   "metadata": {},
   "outputs": [],
   "source": [
    "output_path = Path().resolve().parents[0] / 'data' / 'Principal_Components.csv'\n",
    "PCA_df.to_csv(output_path)"
   ]
  }
 ],
 "metadata": {
  "kernelspec": {
   "display_name": "Python 3",
   "language": "python",
   "name": "python3"
  },
  "language_info": {
   "codemirror_mode": {
    "name": "ipython",
    "version": 3
   },
   "file_extension": ".py",
   "mimetype": "text/x-python",
   "name": "python",
   "nbconvert_exporter": "python",
   "pygments_lexer": "ipython3",
   "version": "3.7.4"
  }
 },
 "nbformat": 4,
 "nbformat_minor": 2
}
