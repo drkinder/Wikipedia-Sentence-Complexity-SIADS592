{
 "cells": [
  {
   "cell_type": "code",
   "execution_count": 44,
   "metadata": {},
   "outputs": [],
   "source": [
    "from pathlib import Path\n",
    "\n",
    "import matplotlib.pyplot as plt\n",
    "import numpy as np\n",
    "import pandas as pd\n",
    "import plotly.express as px\n",
    "import seaborn as sn\n",
    "\n",
    "from scipy.stats import norm\n",
    "from sklearn.covariance import empirical_covariance\n",
    "from sklearn.decomposition import PCA\n",
    "from sklearn.neighbors import KernelDensity\n",
    "from sklearn.preprocessing import StandardScaler\n",
    "\n",
    "%matplotlib inline"
   ]
  },
  {
   "cell_type": "code",
   "execution_count": 45,
   "metadata": {},
   "outputs": [],
   "source": [
    "training_path = Path().resolve().parents[0] / 'data' / 'clean_training_data.csv'"
   ]
  },
  {
   "cell_type": "code",
   "execution_count": 46,
   "metadata": {},
   "outputs": [],
   "source": [
    "df = pd.read_csv(training_path)"
   ]
  },
  {
   "cell_type": "code",
   "execution_count": 47,
   "metadata": {},
   "outputs": [
    {
     "data": {
      "text/html": [
       "<div>\n",
       "<style scoped>\n",
       "    .dataframe tbody tr th:only-of-type {\n",
       "        vertical-align: middle;\n",
       "    }\n",
       "\n",
       "    .dataframe tbody tr th {\n",
       "        vertical-align: top;\n",
       "    }\n",
       "\n",
       "    .dataframe thead th {\n",
       "        text-align: right;\n",
       "    }\n",
       "</style>\n",
       "<table border=\"1\" class=\"dataframe\">\n",
       "  <thead>\n",
       "    <tr style=\"text-align: right;\">\n",
       "      <th></th>\n",
       "      <th>Unnamed: 0</th>\n",
       "      <th>original_text</th>\n",
       "      <th>label</th>\n",
       "      <th>text_length</th>\n",
       "      <th>complexity_scores</th>\n",
       "      <th>token_count</th>\n",
       "      <th>stopword_count</th>\n",
       "      <th>sum_cs</th>\n",
       "      <th>avg_cs</th>\n",
       "    </tr>\n",
       "  </thead>\n",
       "  <tbody>\n",
       "    <tr>\n",
       "      <th>0</th>\n",
       "      <td>0</td>\n",
       "      <td>There is manuscript evidence that Austen conti...</td>\n",
       "      <td>1</td>\n",
       "      <td>43</td>\n",
       "      <td>[13, 11, 30, 11, 8, 7, 15, 2, 17.89, 3, 3, 38,...</td>\n",
       "      <td>18</td>\n",
       "      <td>25</td>\n",
       "      <td>360.89</td>\n",
       "      <td>20.049444</td>\n",
       "    </tr>\n",
       "    <tr>\n",
       "      <th>1</th>\n",
       "      <td>1</td>\n",
       "      <td>In a remarkable comparative analysis , Mandaea...</td>\n",
       "      <td>1</td>\n",
       "      <td>23</td>\n",
       "      <td>[8, 14, 28, 52, 4, 10, 17.89, 38, 29, 5, 12, 5...</td>\n",
       "      <td>13</td>\n",
       "      <td>10</td>\n",
       "      <td>278.89</td>\n",
       "      <td>21.453077</td>\n",
       "    </tr>\n",
       "    <tr>\n",
       "      <th>2</th>\n",
       "      <td>2</td>\n",
       "      <td>Before Persephone was released to Hermes , who...</td>\n",
       "      <td>1</td>\n",
       "      <td>37</td>\n",
       "      <td>[17.89, 7, 17.89, 14, 9, 17.89, 3, 6, 34, 3, 2...</td>\n",
       "      <td>15</td>\n",
       "      <td>22</td>\n",
       "      <td>181.67</td>\n",
       "      <td>12.111333</td>\n",
       "    </tr>\n",
       "    <tr>\n",
       "      <th>3</th>\n",
       "      <td>3</td>\n",
       "      <td>Cogeneration plants are commonly found in dist...</td>\n",
       "      <td>1</td>\n",
       "      <td>39</td>\n",
       "      <td>[17.89, 26, 4, 11, 14, 19, 40, 26, 19, 11, 15,...</td>\n",
       "      <td>27</td>\n",
       "      <td>12</td>\n",
       "      <td>441.89</td>\n",
       "      <td>16.366296</td>\n",
       "    </tr>\n",
       "    <tr>\n",
       "      <th>4</th>\n",
       "      <td>4</td>\n",
       "      <td>Geneva is the second-most-populous city in Swi...</td>\n",
       "      <td>1</td>\n",
       "      <td>16</td>\n",
       "      <td>[48, 26, 24, 4, 26, 17.89]</td>\n",
       "      <td>6</td>\n",
       "      <td>10</td>\n",
       "      <td>145.89</td>\n",
       "      <td>24.315000</td>\n",
       "    </tr>\n",
       "  </tbody>\n",
       "</table>\n",
       "</div>"
      ],
      "text/plain": [
       "   Unnamed: 0                                      original_text  label  \\\n",
       "0           0  There is manuscript evidence that Austen conti...      1   \n",
       "1           1  In a remarkable comparative analysis , Mandaea...      1   \n",
       "2           2  Before Persephone was released to Hermes , who...      1   \n",
       "3           3  Cogeneration plants are commonly found in dist...      1   \n",
       "4           4  Geneva is the second-most-populous city in Swi...      1   \n",
       "\n",
       "   text_length                                  complexity_scores  \\\n",
       "0           43  [13, 11, 30, 11, 8, 7, 15, 2, 17.89, 3, 3, 38,...   \n",
       "1           23  [8, 14, 28, 52, 4, 10, 17.89, 38, 29, 5, 12, 5...   \n",
       "2           37  [17.89, 7, 17.89, 14, 9, 17.89, 3, 6, 34, 3, 2...   \n",
       "3           39  [17.89, 26, 4, 11, 14, 19, 40, 26, 19, 11, 15,...   \n",
       "4           16                         [48, 26, 24, 4, 26, 17.89]   \n",
       "\n",
       "   token_count  stopword_count  sum_cs     avg_cs  \n",
       "0           18              25  360.89  20.049444  \n",
       "1           13              10  278.89  21.453077  \n",
       "2           15              22  181.67  12.111333  \n",
       "3           27              12  441.89  16.366296  \n",
       "4            6              10  145.89  24.315000  "
      ]
     },
     "execution_count": 47,
     "metadata": {},
     "output_type": "execute_result"
    }
   ],
   "source": [
    "df.head()"
   ]
  },
  {
   "cell_type": "code",
   "execution_count": 48,
   "metadata": {},
   "outputs": [],
   "source": [
    "df = df.dropna()"
   ]
  },
  {
   "cell_type": "code",
   "execution_count": 49,
   "metadata": {},
   "outputs": [],
   "source": [
    "df_X = df.drop(['original_text','Unnamed: 0','label','complexity_scores'], axis=1)\n",
    "df_y = df['label']"
   ]
  },
  {
   "cell_type": "code",
   "execution_count": 50,
   "metadata": {},
   "outputs": [
    {
     "data": {
      "text/html": [
       "<div>\n",
       "<style scoped>\n",
       "    .dataframe tbody tr th:only-of-type {\n",
       "        vertical-align: middle;\n",
       "    }\n",
       "\n",
       "    .dataframe tbody tr th {\n",
       "        vertical-align: top;\n",
       "    }\n",
       "\n",
       "    .dataframe thead th {\n",
       "        text-align: right;\n",
       "    }\n",
       "</style>\n",
       "<table border=\"1\" class=\"dataframe\">\n",
       "  <thead>\n",
       "    <tr style=\"text-align: right;\">\n",
       "      <th></th>\n",
       "      <th>text_length</th>\n",
       "      <th>token_count</th>\n",
       "      <th>stopword_count</th>\n",
       "      <th>sum_cs</th>\n",
       "      <th>avg_cs</th>\n",
       "    </tr>\n",
       "  </thead>\n",
       "  <tbody>\n",
       "    <tr>\n",
       "      <th>0</th>\n",
       "      <td>43</td>\n",
       "      <td>18</td>\n",
       "      <td>25</td>\n",
       "      <td>360.89</td>\n",
       "      <td>20.049444</td>\n",
       "    </tr>\n",
       "    <tr>\n",
       "      <th>1</th>\n",
       "      <td>23</td>\n",
       "      <td>13</td>\n",
       "      <td>10</td>\n",
       "      <td>278.89</td>\n",
       "      <td>21.453077</td>\n",
       "    </tr>\n",
       "    <tr>\n",
       "      <th>2</th>\n",
       "      <td>37</td>\n",
       "      <td>15</td>\n",
       "      <td>22</td>\n",
       "      <td>181.67</td>\n",
       "      <td>12.111333</td>\n",
       "    </tr>\n",
       "    <tr>\n",
       "      <th>3</th>\n",
       "      <td>39</td>\n",
       "      <td>27</td>\n",
       "      <td>12</td>\n",
       "      <td>441.89</td>\n",
       "      <td>16.366296</td>\n",
       "    </tr>\n",
       "    <tr>\n",
       "      <th>4</th>\n",
       "      <td>16</td>\n",
       "      <td>6</td>\n",
       "      <td>10</td>\n",
       "      <td>145.89</td>\n",
       "      <td>24.315000</td>\n",
       "    </tr>\n",
       "  </tbody>\n",
       "</table>\n",
       "</div>"
      ],
      "text/plain": [
       "   text_length  token_count  stopword_count  sum_cs     avg_cs\n",
       "0           43           18              25  360.89  20.049444\n",
       "1           23           13              10  278.89  21.453077\n",
       "2           37           15              22  181.67  12.111333\n",
       "3           39           27              12  441.89  16.366296\n",
       "4           16            6              10  145.89  24.315000"
      ]
     },
     "execution_count": 50,
     "metadata": {},
     "output_type": "execute_result"
    }
   ],
   "source": [
    "df_X.head()"
   ]
  },
  {
   "cell_type": "code",
   "execution_count": 51,
   "metadata": {},
   "outputs": [],
   "source": [
    "df_X_normalized = StandardScaler().fit_transform(df_X[df_X.columns])"
   ]
  },
  {
   "cell_type": "code",
   "execution_count": 52,
   "metadata": {},
   "outputs": [
    {
     "name": "stdout",
     "output_type": "stream",
     "text": [
      "(415211, 5) (415211, 2)\n"
     ]
    }
   ],
   "source": [
    "pca = PCA(n_components=2).fit(df_X_normalized)\n",
    "X_pca = pca.transform(df_X_normalized)\n",
    "print(df_X_normalized.shape, X_pca.shape)"
   ]
  },
  {
   "cell_type": "code",
   "execution_count": 53,
   "metadata": {},
   "outputs": [],
   "source": [
    "# sn.heatmap(empirical_covariance(df_X))"
   ]
  },
  {
   "cell_type": "code",
   "execution_count": 54,
   "metadata": {},
   "outputs": [],
   "source": [
    "# sn.heatmap(empirical_covariance(df_X_normalized))"
   ]
  },
  {
   "cell_type": "code",
   "execution_count": 55,
   "metadata": {},
   "outputs": [],
   "source": [
    "pca = PCA(n_components=2).fit(df_X_normalized)\n",
    "X_pca = pca.transform(df_X_normalized)\n",
    "# sn.heatmap(X_pca)"
   ]
  },
  {
   "cell_type": "code",
   "execution_count": 56,
   "metadata": {},
   "outputs": [],
   "source": [
    "def plot_pca(pca, top_k = 2):\n",
    "    fig, ax = plt.subplots(figsize=(10, 6))\n",
    "    plt.imshow(pca.components_[0:top_k], interpolation = 'none', cmap = 'plasma')\n",
    "    feature_names=list(df_X.columns)\n",
    "    plt.xticks(np.arange(-0., len(feature_names), 1) , feature_names, rotation = 90, fontsize=12)\n",
    "    plt.yticks(np.arange(0., 2, 1), ['First PC', 'Second PC'], fontsize = 16)\n",
    "    plt.colorbar()\n",
    "    \n",
    "# plot_pca(pca)"
   ]
  },
  {
   "cell_type": "code",
   "execution_count": 57,
   "metadata": {},
   "outputs": [],
   "source": [
    "# features = list(df_X.columns)\n",
    "# labels = {\n",
    "#     str(i): f\"PC {i+1} ({var:.1f}%)\"\n",
    "#     for i, var in enumerate(pca.explained_variance_ratio_ * 100)\n",
    "# }\n",
    "\n",
    "# fig = px.scatter_matrix(\n",
    "#     X_pca,\n",
    "#     labels=labels,\n",
    "#     dimensions=range(2),\n",
    "#     color=df_y)\n",
    "\n",
    "# fig.update_traces(diagonal_visible=False)"
   ]
  },
  {
   "cell_type": "code",
   "execution_count": 58,
   "metadata": {},
   "outputs": [],
   "source": [
    "#Playing with opacity to see if complex labels are edges or throughout\n",
    "\n",
    "# fig = px.scatter(X_pca, x=0, y=1, color=df_y, color_continuous_scale=['#ffffff','#3264a8'], opacity=0.1)\n",
    "# fig.show()"
   ]
  },
  {
   "cell_type": "code",
   "execution_count": 59,
   "metadata": {},
   "outputs": [],
   "source": [
    "pca = PCA(n_components=5).fit(df_X_normalized)\n",
    "X_pca = pca.transform(df_X_normalized)\n",
    "\n",
    "# labels = {\n",
    "#     str(i): f\"PC {i+1} ({var:.1f}%)\"\n",
    "#     for i, var in enumerate(pca.explained_variance_ratio_ * 100)\n",
    "# }\n",
    "\n",
    "# fig = px.scatter_matrix(\n",
    "#     X_pca,\n",
    "#     labels=labels,\n",
    "#     dimensions=range(5),\n",
    "#     color=df_y)\n",
    "\n",
    "# fig.update_traces(diagonal_visible=False)"
   ]
  },
  {
   "cell_type": "code",
   "execution_count": 60,
   "metadata": {},
   "outputs": [],
   "source": [
    "# df_var = pd.DataFrame({'explained var ratio':pca.explained_variance_ratio_,\n",
    "#                    'PC':['PC1','PC2','PC3','PC4','PC5']})\n",
    "# sn.barplot(x = 'PC',y = \"explained var ratio\", data = df_var, color=\"c\");\n",
    "# np.cumsum(df_var['explained var ratio'])"
   ]
  },
  {
   "cell_type": "markdown",
   "metadata": {},
   "source": [
    "# Kernel PCA Attempt"
   ]
  },
  {
   "cell_type": "code",
   "execution_count": 61,
   "metadata": {},
   "outputs": [],
   "source": [
    "# from sklearn.decomposition import KernelPCA\n",
    "\n",
    "# kpca = KernelPCA(kernel='rbf', gamma=5).fit(df_X_normalized[:10000])\n",
    "# X_kpca = kpca.transform(df_X_normalized[:10000])"
   ]
  },
  {
   "cell_type": "code",
   "execution_count": 62,
   "metadata": {},
   "outputs": [],
   "source": [
    "# fig = px.scatter(X_kpca, x=0, y=1, color=df_y[:10000], color_continuous_scale=['#04f500','#8f00f5'], opacity=1)\n",
    "# fig.show()"
   ]
  },
  {
   "cell_type": "markdown",
   "metadata": {},
   "source": [
    "KPCA takes too much memory, not going to work :("
   ]
  },
  {
   "cell_type": "markdown",
   "metadata": {},
   "source": [
    "# KMeans"
   ]
  },
  {
   "cell_type": "code",
   "execution_count": 63,
   "metadata": {},
   "outputs": [],
   "source": [
    "from sklearn.cluster import KMeans\n",
    "from sklearn.preprocessing import MinMaxScaler\n",
    "\n",
    "from sklearn.metrics import davies_bouldin_score\n",
    "from sklearn.metrics import calinski_harabasz_score"
   ]
  },
  {
   "cell_type": "code",
   "execution_count": 64,
   "metadata": {},
   "outputs": [
    {
     "data": {
      "text/plain": [
       "array([[ 1.93609487,  1.37487355,  2.27294058,  1.70177148,  0.36834496],\n",
       "       [ 0.23235582,  0.52663029, -0.05854233,  0.96952005,  0.57453121],\n",
       "       [ 1.42497316,  0.86592759,  1.806644  ,  0.1013556 , -0.79772192],\n",
       "       ...,\n",
       "       [-0.78988761, -0.83055891, -0.6802711 , -0.65473865,  0.27294498],\n",
       "       [ 1.33978621,  1.03557624,  1.49577961,  0.26504059, -0.74062883],\n",
       "       [-1.47138323, -1.33950486, -1.45743207, -0.76287969,  3.65813459]])"
      ]
     },
     "execution_count": 64,
     "metadata": {},
     "output_type": "execute_result"
    }
   ],
   "source": [
    "X_kmeans = df_X.values\n",
    "y_means = df_y\n",
    "\n",
    "X_kmeans_normalized = MinMaxScaler().fit(X_kmeans).transform(X_kmeans)\n",
    "\n",
    "df_X_normalized\n",
    "\n",
    "#kmeans = KMeans(n_clusters=2, init='k-means++', max_iter=100, n_init=1)\n",
    "#kmeans.fit(X_kmeans)\n",
    "\n",
    "#labels = kmeans.labels_\n",
    "\n",
    "#calinski_harabasz_score(X_kmeans, labels), davies_bouldin_score(X_kmeans, labels)"
   ]
  },
  {
   "cell_type": "markdown",
   "metadata": {},
   "source": [
    "### Calinski-Harabasz and Davies-Bouldin"
   ]
  },
  {
   "cell_type": "code",
   "execution_count": 65,
   "metadata": {},
   "outputs": [],
   "source": [
    "clusters = list(range(2,6))\n",
    "\n",
    "calinski_scores = []\n",
    "davies_scores = []\n",
    "\n",
    "for cluster in clusters:\n",
    "    kmeans = KMeans(n_clusters=cluster, init='k-means++', max_iter=100, n_init=1)\n",
    "    kmeans.fit(X_kmeans_normalized)\n",
    "    \n",
    "    labels = kmeans.labels_\n",
    "    \n",
    "    calinski_scores.append((cluster, calinski_harabasz_score(X_kmeans, labels)))\n",
    "    davies_scores.append((cluster, davies_bouldin_score(X_kmeans, labels)))\n",
    "    \n",
    "#print(calinski_scores)\n",
    "#print(davies_scores)"
   ]
  },
  {
   "cell_type": "code",
   "execution_count": 66,
   "metadata": {},
   "outputs": [
    {
     "data": {
      "text/plain": [
       "[<matplotlib.lines.Line2D at 0x2aac29d0>]"
      ]
     },
     "execution_count": 66,
     "metadata": {},
     "output_type": "execute_result"
    },
    {
     "data": {
      "image/png": "[encoded data removed]",
      "text/plain": [
       "<Figure size 432x288 with 1 Axes>"
      ]
     },
     "metadata": {
      "needs_background": "light"
     },
     "output_type": "display_data"
    }
   ],
   "source": [
    "#Chart of Calinski scores (higher is better)\n",
    "plt.plot(*zip(*calinski_scores))"
   ]
  },
  {
   "cell_type": "code",
   "execution_count": 67,
   "metadata": {},
   "outputs": [
    {
     "data": {
      "text/plain": [
       "[<matplotlib.lines.Line2D at 0x1558add8>]"
      ]
     },
     "execution_count": 67,
     "metadata": {},
     "output_type": "execute_result"
    },
    {
     "data": {
      "image/png": "[encoded data removed]",
      "text/plain": [
       "<Figure size 432x288 with 1 Axes>"
      ]
     },
     "metadata": {
      "needs_background": "light"
     },
     "output_type": "display_data"
    }
   ],
   "source": [
    "#Chart of Davies scores (lower is better)\n",
    "plt.plot(*zip(*davies_scores))"
   ]
  },
  {
   "cell_type": "code",
   "execution_count": 68,
   "metadata": {},
   "outputs": [
    {
     "data": {
      "text/plain": [
       "KMeans(max_iter=100, n_clusters=2, n_init=1)"
      ]
     },
     "execution_count": 68,
     "metadata": {},
     "output_type": "execute_result"
    }
   ],
   "source": [
    "kmeans_test = KMeans(n_clusters=2, init='k-means++', max_iter=100, n_init=1)\n",
    "kmeans_test.fit(X_kmeans_normalized)\n",
    "\n",
    "# fig = px.scatter(X_kmeans_normalized, x=0, y=1, color=kmeans_test.labels_, color_continuous_scale=['#04f500','#8f00f5'], opacity=1)\n",
    "# fig.show()"
   ]
  },
  {
   "cell_type": "code",
   "execution_count": null,
   "metadata": {},
   "outputs": [],
   "source": []
  }
 ],
 "metadata": {
  "kernelspec": {
   "display_name": "Python 3",
   "language": "python",
   "name": "python3"
  },
  "language_info": {
   "codemirror_mode": {
    "name": "ipython",
    "version": 3
   },
   "file_extension": ".py",
   "mimetype": "text/x-python",
   "name": "python",
   "nbconvert_exporter": "python",
   "pygments_lexer": "ipython3",
   "version": "3.9.0"
  }
 },
 "nbformat": 4,
 "nbformat_minor": 5
}
