{
 "cells": [
  {
   "cell_type": "code",
   "execution_count": 15,
   "metadata": {},
   "outputs": [],
   "source": [
    "import operator\n",
    "import random\n",
    "\n",
    "import matplotlib.pyplot as plt\n",
    "import numpy as np\n",
    "import pandas as pd\n",
    "from pathlib import Path\n",
    "import seaborn as sns\n",
    "from tqdm import tqdm\n",
    "\n",
    "from sklearn.ensemble import RandomForestClassifier, AdaBoostClassifier\n",
    "from sklearn.metrics import f1_score, accuracy_score\n",
    "from sklearn.model_selection import train_test_split, RandomizedSearchCV\n",
    "from sklearn.naive_bayes import GaussianNB, MultinomialNB\n",
    "from sklearn.svm import LinearSVC\n",
    "from sklearn.tree import DecisionTreeClassifier"
   ]
  },
  {
   "cell_type": "code",
   "execution_count": 2,
   "metadata": {},
   "outputs": [],
   "source": [
    "training_path = Path().resolve().parents[0] / 'data' / 'clean_training_data.csv'"
   ]
  },
  {
   "cell_type": "code",
   "execution_count": 3,
   "metadata": {},
   "outputs": [],
   "source": [
    "df = pd.read_csv(training_path)"
   ]
  },
  {
   "cell_type": "code",
   "execution_count": 4,
   "metadata": {},
   "outputs": [
    {
     "data": {
      "text/plain": [
       "Index(['Unnamed: 0', 'original_text', 'label', 'text_length',\n",
       "       'complexity_scores', 'token_count', 'stopword_count', 'sum_cs',\n",
       "       'avg_cs'],\n",
       "      dtype='object')"
      ]
     },
     "execution_count": 4,
     "metadata": {},
     "output_type": "execute_result"
    }
   ],
   "source": [
    "df.columns"
   ]
  },
  {
   "cell_type": "code",
   "execution_count": 5,
   "metadata": {},
   "outputs": [],
   "source": [
    "df = df.drop(['Unnamed: 0', 'original_text'], axis=1)\n",
    "df = df.dropna()\n",
    "\n",
    "# Experimental\n",
    "df['stopword_ratio'] = df['stopword_count'] / df['token_count']\n",
    "df = df.sample(frac=0.5)"
   ]
  },
  {
   "cell_type": "code",
   "execution_count": 6,
   "metadata": {},
   "outputs": [],
   "source": [
    "# X = df[['text_length', 'token_count', 'stopword_count', 'sum_cs', 'avg_cs']]\n",
    "X = df[['stopword_ratio', 'sum_cs']]\n",
    "y = df['label']\n",
    "X_train, X_test, y_train, y_test = train_test_split(X, y, test_size=0.2)"
   ]
  },
  {
   "cell_type": "markdown",
   "metadata": {},
   "source": [
    "## Random Forest Classifier"
   ]
  },
  {
   "cell_type": "code",
   "execution_count": 8,
   "metadata": {},
   "outputs": [],
   "source": [
    "random_grid = {\n",
    "    'n_estimators': [int(x) for x in np.linspace(200, 1200, 10)],\n",
    "    'max_features': ['auto', 'sqrt'],\n",
    "    'max_depth': [int(x) for x in np.linspace(10, 110, 11)] + [None],\n",
    "    'min_samples_split': [2, 5, 10],\n",
    "    'min_samples_leaf': [1, 2, 4],\n",
    "    'bootstrap': [True, False]\n",
    "}"
   ]
  },
  {
   "cell_type": "code",
   "execution_count": 10,
   "metadata": {},
   "outputs": [
    {
     "name": "stdout",
     "output_type": "stream",
     "text": [
      "Fitting 3 folds for each of 20 candidates, totalling 60 fits\n"
     ]
    },
    {
     "name": "stderr",
     "output_type": "stream",
     "text": [
      "c:\\users\\dylan\\appdata\\local\\programs\\python\\python39-32\\lib\\site-packages\\sklearn\\model_selection\\_search.py:922: UserWarning: One or more of the test scores are non-finite: [       nan 0.62708027 0.61626646 0.59428959        nan 0.60965532\n",
      " 0.59392832        nan 0.59984102        nan 0.60951083 0.60053944\n",
      " 0.59530112        nan 0.59958812 0.6081621         nan        nan\n",
      " 0.5966619         nan]\n",
      "  warnings.warn(\n"
     ]
    },
    {
     "data": {
      "text/plain": [
       "RandomizedSearchCV(cv=3, estimator=RandomForestClassifier(), n_iter=20,\n",
       "                   n_jobs=-1,\n",
       "                   param_distributions={'bootstrap': [True, False],\n",
       "                                        'max_depth': [10, 20, 30, 40, 50, 60,\n",
       "                                                      70, 80, 90, 100, 110,\n",
       "                                                      None],\n",
       "                                        'max_features': ['auto', 'sqrt'],\n",
       "                                        'min_samples_leaf': [1, 2, 4],\n",
       "                                        'min_samples_split': [2, 5, 10],\n",
       "                                        'n_estimators': [200, 400, 600, 800,\n",
       "                                                         1000, 1200, 1400, 1600,\n",
       "                                                         1800, 2000]},\n",
       "                   random_state=100, verbose=2)"
      ]
     },
     "execution_count": 10,
     "metadata": {},
     "output_type": "execute_result"
    }
   ],
   "source": [
    "rf = RandomForestClassifier()\n",
    "rf_random = RandomizedSearchCV(\n",
    "    estimator=rf, \n",
    "    param_distributions=random_grid, \n",
    "    n_iter=20, \n",
    "    cv=3, \n",
    "    verbose=2, \n",
    "    random_state=100, \n",
    "    n_jobs=-1\n",
    ")\n",
    "rf_random.fit(X_train, y_train)"
   ]
  },
  {
   "cell_type": "code",
   "execution_count": 11,
   "metadata": {},
   "outputs": [
    {
     "data": {
      "text/plain": [
       "\"\\n0.6408 Accuracy / 0.66 F1\\n{'n_estimators': 200,\\n 'min_samples_split': 10,\\n 'min_samples_leaf': 4,\\n 'max_features': 'sqrt',\\n 'max_depth': 20,\\n 'bootstrap': True}\\n\""
      ]
     },
     "execution_count": 11,
     "metadata": {},
     "output_type": "execute_result"
    }
   ],
   "source": [
    "rf_random.best_params_\n",
    "\n",
    "\"\"\"\n",
    "0.6408 Accuracy / 0.66 F1\n",
    "{'n_estimators': 200,\n",
    " 'min_samples_split': 10,\n",
    " 'min_samples_leaf': 4,\n",
    " 'max_features': 'sqrt',\n",
    " 'max_depth': 20,\n",
    " 'bootstrap': True}\n",
    "\"\"\""
   ]
  },
  {
   "cell_type": "code",
   "execution_count": 12,
   "metadata": {},
   "outputs": [
    {
     "name": "stdout",
     "output_type": "stream",
     "text": [
      "0.6239583835075382\n"
     ]
    }
   ],
   "source": [
    "accuracy = accuracy_score(rf_random.predict(X_test), y_test)\n",
    "print(accuracy)"
   ]
  },
  {
   "cell_type": "code",
   "execution_count": null,
   "metadata": {},
   "outputs": [],
   "source": [
    "f1 = f1_score(rf_random.predict(X_test), y_test)\n",
    "print(f1)"
   ]
  },
  {
   "cell_type": "code",
   "execution_count": 7,
   "metadata": {},
   "outputs": [],
   "source": [
    "params = dict(\n",
    "    n_estimators=800,\n",
    "    min_samples_split=10,\n",
    "    min_samples_leaf=4,\n",
    "    max_features='sqrt',\n",
    "    max_depth=20,\n",
    "    bootstrap=True\n",
    ")\n",
    "rfc = RandomForestClassifier(**params).fit(X_train, y_train)"
   ]
  },
  {
   "cell_type": "code",
   "execution_count": 8,
   "metadata": {},
   "outputs": [
    {
     "name": "stdout",
     "output_type": "stream",
     "text": [
      "0.6206589277973122\n",
      "0.6429397229841542\n"
     ]
    }
   ],
   "source": [
    "predictions = rfc.predict(X_test)\n",
    "\n",
    "accuracy = accuracy_score(predictions, y_test)\n",
    "print(accuracy)\n",
    "\n",
    "f1 = f1_score(predictions, y_test)\n",
    "print(f1)"
   ]
  },
  {
   "cell_type": "markdown",
   "metadata": {},
   "source": [
    "## AdaBoost"
   ]
  },
  {
   "cell_type": "code",
   "execution_count": 9,
   "metadata": {},
   "outputs": [],
   "source": [
    "random_grid = {\n",
    "    'dtc__criterion': ['gini', 'entropy'],\n",
    "    'dtc__splitter': ['best', 'random'],\n",
    "    'abc__n_estimators': [int(x) for x in np.linspace(50, 500, 50)],\n",
    "    'abc__learning_rate': [0.001, 0.01, 0.1, 0.2, 0.5]\n",
    "}"
   ]
  },
  {
   "cell_type": "code",
   "execution_count": 10,
   "metadata": {},
   "outputs": [
    {
     "name": "stdout",
     "output_type": "stream",
     "text": [
      "Fitting 3 folds for each of 20 candidates, totalling 60 fits\n"
     ]
    },
    {
     "data": {
      "text/plain": [
       "RandomizedSearchCV(cv=3, estimator=AdaBoostClassifier(), n_iter=20, n_jobs=-1,\n",
       "                   param_distributions={'learning_rate': [0.001, 0.01, 0.1, 0.2,\n",
       "                                                          0.5],\n",
       "                                        'n_estimators': [50, 59, 68, 77, 86, 95,\n",
       "                                                         105, 114, 123, 132,\n",
       "                                                         141, 151, 160, 169,\n",
       "                                                         178, 187, 196, 206,\n",
       "                                                         215, 224, 233, 242,\n",
       "                                                         252, 261, 270, 279,\n",
       "                                                         288, 297, 307, 316, ...]},\n",
       "                   random_state=100, verbose=2)"
      ]
     },
     "execution_count": 10,
     "metadata": {},
     "output_type": "execute_result"
    }
   ],
   "source": [
    "dtc = DecisionTreeClassifier(random_state=100, max_features='auto', class_weight='auto', max_depth = None)\n",
    "abc = AdaBoostClassifier(base_estimator=dtc)\n",
    "abc_random = RandomizedSearchCV(\n",
    "    estimator=abc, \n",
    "    param_distributions=random_grid, \n",
    "    n_iter=20, \n",
    "    cv=3, \n",
    "    verbose=2, \n",
    "    random_state=100, \n",
    "    n_jobs=-1,\n",
    "    scoring='roc_auc'\n",
    ")\n",
    "abc_random.fit(X_train, y_train)"
   ]
  },
  {
   "cell_type": "code",
   "execution_count": 11,
   "metadata": {},
   "outputs": [
    {
     "data": {
      "text/plain": [
       "{'n_estimators': 380, 'learning_rate': 0.5}"
      ]
     },
     "execution_count": 11,
     "metadata": {},
     "output_type": "execute_result"
    }
   ],
   "source": [
    "abc_random.best_params_"
   ]
  },
  {
   "cell_type": "code",
   "execution_count": 12,
   "metadata": {},
   "outputs": [
    {
     "name": "stdout",
     "output_type": "stream",
     "text": [
      "0.6056548335821974\n"
     ]
    }
   ],
   "source": [
    "accuracy = accuracy_score(abc_random.predict(X_test), y_test)\n",
    "print(accuracy)"
   ]
  },
  {
   "cell_type": "code",
   "execution_count": 13,
   "metadata": {},
   "outputs": [
    {
     "name": "stdout",
     "output_type": "stream",
     "text": [
      "0.6287243208924765\n"
     ]
    }
   ],
   "source": [
    "f1 = f1_score(abc_random.predict(X_test), y_test)\n",
    "print(f1)"
   ]
  },
  {
   "cell_type": "markdown",
   "metadata": {},
   "source": [
    "## 5 Base Model Performance Check"
   ]
  },
  {
   "cell_type": "code",
   "execution_count": null,
   "metadata": {},
   "outputs": [],
   "source": [
    "F1_score_df = pd.DataFrame(columns = ['model','text_length', 'token_count', 'stopword_count', 'sum_cs', 'avg_cs'])\n",
    "models = ['LinearSVC','GaussianNB','MultinomialNB','RandomForestClassifier','AdaBoostClassifier']\n",
    "F1_score_df['model'] = models"
   ]
  },
  {
   "cell_type": "code",
   "execution_count": 8,
   "metadata": {},
   "outputs": [
    {
     "name": "stderr",
     "output_type": "stream",
     "text": [
      "  0%|          | 0/5 [00:00<?, ?it/s]C:\\Users\\ndunbar\\AppData\\Local\\Continuum\\anaconda3\\lib\\site-packages\\sklearn\\svm\\base.py:929: ConvergenceWarning: Liblinear failed to converge, increase the number of iterations.\n",
      "  \"the number of iterations.\", ConvergenceWarning)\n",
      "C:\\Users\\ndunbar\\AppData\\Local\\Continuum\\anaconda3\\lib\\site-packages\\sklearn\\svm\\base.py:929: ConvergenceWarning: Liblinear failed to converge, increase the number of iterations.\n",
      "  \"the number of iterations.\", ConvergenceWarning)\n",
      "C:\\Users\\ndunbar\\AppData\\Local\\Continuum\\anaconda3\\lib\\site-packages\\sklearn\\svm\\base.py:929: ConvergenceWarning: Liblinear failed to converge, increase the number of iterations.\n",
      "  \"the number of iterations.\", ConvergenceWarning)\n",
      "C:\\Users\\ndunbar\\AppData\\Local\\Continuum\\anaconda3\\lib\\site-packages\\sklearn\\svm\\base.py:929: ConvergenceWarning: Liblinear failed to converge, increase the number of iterations.\n",
      "  \"the number of iterations.\", ConvergenceWarning)\n",
      "C:\\Users\\ndunbar\\AppData\\Local\\Continuum\\anaconda3\\lib\\site-packages\\sklearn\\svm\\base.py:929: ConvergenceWarning: Liblinear failed to converge, increase the number of iterations.\n",
      "  \"the number of iterations.\", ConvergenceWarning)\n",
      " 60%|██████    | 3/5 [06:20<06:12, 186.37s/it]C:\\Users\\ndunbar\\AppData\\Local\\Continuum\\anaconda3\\lib\\site-packages\\sklearn\\ensemble\\forest.py:245: FutureWarning: The default value of n_estimators will change from 10 in version 0.20 to 100 in 0.22.\n",
      "  \"10 in version 0.20 to 100 in 0.22.\", FutureWarning)\n",
      "100%|██████████| 5/5 [07:07<00:00, 85.53s/it] \n",
      "  0%|          | 0/5 [00:00<?, ?it/s]C:\\Users\\ndunbar\\AppData\\Local\\Continuum\\anaconda3\\lib\\site-packages\\sklearn\\svm\\base.py:929: ConvergenceWarning: Liblinear failed to converge, increase the number of iterations.\n",
      "  \"the number of iterations.\", ConvergenceWarning)\n",
      "100%|██████████| 5/5 [01:44<00:00, 20.88s/it]\n"
     ]
    }
   ],
   "source": [
    "SVC = LinearSVC()\n",
    "GNB = GaussianNB()\n",
    "MNB = MultinomialNB()\n",
    "RFC = RandomForestClassifier()\n",
    "ABC = AdaBoostClassifier()\n",
    "\n",
    "trainers = [SVC, GNB, MNB, RFC, ABC]\n",
    "features = ['text_length', 'token_count', 'stopword_count', 'sum_cs', 'avg_cs']\n",
    "\n",
    "index_count=0\n",
    "\n",
    "for trainer in tqdm(trainers):\n",
    "    for feature in features:\n",
    "        trainer.fit(X_train[feature].values.reshape(-1,1), y_train)\n",
    "        predictions = trainer.predict(X_test[feature].values.reshape(-1,1))\n",
    "        F1_score_df.at[index_count,feature] = f1_score(y_test, predictions)\n",
    "        #print(index_count, feature, f1_score(y_test, predictions))\n",
    "    index_count+=1\n",
    "    \n",
    "\n",
    "index_count = 0    \n",
    "for trainer in tqdm(trainers):\n",
    "    trainer.fit(X_train, y_train)\n",
    "    predictions = trainer.predict(X_test)\n",
    "    F1_score_df.at[index_count,'all'] = f1_score(y_test, predictions)\n",
    "    index_count+=1\n"
   ]
  },
  {
   "cell_type": "code",
   "execution_count": 9,
   "metadata": {},
   "outputs": [
    {
     "data": {
      "text/html": [
       "<div>\n",
       "<style scoped>\n",
       "    .dataframe tbody tr th:only-of-type {\n",
       "        vertical-align: middle;\n",
       "    }\n",
       "\n",
       "    .dataframe tbody tr th {\n",
       "        vertical-align: top;\n",
       "    }\n",
       "\n",
       "    .dataframe thead th {\n",
       "        text-align: right;\n",
       "    }\n",
       "</style>\n",
       "<table border=\"1\" class=\"dataframe\">\n",
       "  <thead>\n",
       "    <tr style=\"text-align: right;\">\n",
       "      <th></th>\n",
       "      <th>model</th>\n",
       "      <th>text_length</th>\n",
       "      <th>token_count</th>\n",
       "      <th>stopword_count</th>\n",
       "      <th>sum_cs</th>\n",
       "      <th>avg_cs</th>\n",
       "      <th>all</th>\n",
       "    </tr>\n",
       "  </thead>\n",
       "  <tbody>\n",
       "    <tr>\n",
       "      <td>0</td>\n",
       "      <td>LinearSVC</td>\n",
       "      <td>0.345473</td>\n",
       "      <td>0.620011</td>\n",
       "      <td>0.550464</td>\n",
       "      <td>0.67341</td>\n",
       "      <td>0.667378</td>\n",
       "      <td>0.001009</td>\n",
       "    </tr>\n",
       "    <tr>\n",
       "      <td>1</td>\n",
       "      <td>GaussianNB</td>\n",
       "      <td>0.527426</td>\n",
       "      <td>0.514891</td>\n",
       "      <td>0.511717</td>\n",
       "      <td>0.491069</td>\n",
       "      <td>0.634302</td>\n",
       "      <td>0.542920</td>\n",
       "    </tr>\n",
       "    <tr>\n",
       "      <td>2</td>\n",
       "      <td>MultinomialNB</td>\n",
       "      <td>0.667378</td>\n",
       "      <td>0.667378</td>\n",
       "      <td>0.667378</td>\n",
       "      <td>0.667378</td>\n",
       "      <td>0.667378</td>\n",
       "      <td>0.593224</td>\n",
       "    </tr>\n",
       "    <tr>\n",
       "      <td>3</td>\n",
       "      <td>RandomForestClassifier</td>\n",
       "      <td>0.659501</td>\n",
       "      <td>0.619978</td>\n",
       "      <td>0.663055</td>\n",
       "      <td>0.619196</td>\n",
       "      <td>0.567369</td>\n",
       "      <td>0.615517</td>\n",
       "    </tr>\n",
       "    <tr>\n",
       "      <td>4</td>\n",
       "      <td>AdaBoostClassifier</td>\n",
       "      <td>0.659501</td>\n",
       "      <td>0.620011</td>\n",
       "      <td>0.663068</td>\n",
       "      <td>0.598456</td>\n",
       "      <td>0.634175</td>\n",
       "      <td>0.634751</td>\n",
       "    </tr>\n",
       "  </tbody>\n",
       "</table>\n",
       "</div>"
      ],
      "text/plain": [
       "                    model text_length token_count stopword_count    sum_cs  \\\n",
       "0               LinearSVC    0.345473    0.620011       0.550464   0.67341   \n",
       "1              GaussianNB    0.527426    0.514891       0.511717  0.491069   \n",
       "2           MultinomialNB    0.667378    0.667378       0.667378  0.667378   \n",
       "3  RandomForestClassifier    0.659501    0.619978       0.663055  0.619196   \n",
       "4      AdaBoostClassifier    0.659501    0.620011       0.663068  0.598456   \n",
       "\n",
       "     avg_cs       all  \n",
       "0  0.667378  0.001009  \n",
       "1  0.634302  0.542920  \n",
       "2  0.667378  0.593224  \n",
       "3  0.567369  0.615517  \n",
       "4  0.634175  0.634751  "
      ]
     },
     "execution_count": 9,
     "metadata": {},
     "output_type": "execute_result"
    }
   ],
   "source": [
    "F1_score_df"
   ]
  },
  {
   "cell_type": "code",
   "execution_count": null,
   "metadata": {},
   "outputs": [],
   "source": []
  }
 ],
 "metadata": {
  "kernelspec": {
   "display_name": "Python 3",
   "language": "python",
   "name": "python3"
  },
  "language_info": {
   "codemirror_mode": {
    "name": "ipython",
    "version": 3
   },
   "file_extension": ".py",
   "mimetype": "text/x-python",
   "name": "python",
   "nbconvert_exporter": "python",
   "pygments_lexer": "ipython3",
   "version": "3.9.0"
  }
 },
 "nbformat": 4,
 "nbformat_minor": 5
}
